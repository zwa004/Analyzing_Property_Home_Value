{
 "cells": [
  {
   "cell_type": "code",
   "execution_count": 1,
   "metadata": {},
   "outputs": [],
   "source": [
    "# Import libraries\n",
    "import requests\n",
    "import urllib.parse\n",
    "import json\n",
    "from config import API_token"
   ]
  },
  {
   "cell_type": "code",
   "execution_count": null,
   "metadata": {},
   "outputs": [],
   "source": [
    "# Set API parameters\n",
    "format = 'JSON'\n",
    "query = 'country:US'\n",
    "num_records = 1\n",
    "download = False\n",
    "\n",
    "request_headers = {\n",
    "    'Authorization': 'Bearer ' + API_token,\n",
    "    'Content-Type': 'application/json',\n",
    "}\n",
    "request_data = {\n",
    "    'query': query,\n",
    "    'format': format,\n",
    "    'num_records': num_records,\n",
    "    'download': download\n",
    "}\n",
    "\n",
    "# Make the API call.\n",
    "r = requests.post('https://api.datafiniti.co/v4/properties/search',json=request_data,headers=request_headers);\n",
    "\n",
    "# Do something with the response.\n",
    "if r.status_code == 200:\n",
    "    print(r.content)\n",
    "else:\n",
    "    print('Request failed')"
   ]
  }
 ],
 "metadata": {
  "interpreter": {
   "hash": "669b573305b8649553c2d8df7ddfe8affd0f6bb88032e92d7cb775163d9e1f2e"
  },
  "kernelspec": {
   "display_name": "Python 3.9.7 ('PythonData')",
   "language": "python",
   "name": "python3"
  },
  "language_info": {
   "codemirror_mode": {
    "name": "ipython",
    "version": 3
   },
   "file_extension": ".py",
   "mimetype": "text/x-python",
   "name": "python",
   "nbconvert_exporter": "python",
   "pygments_lexer": "ipython3",
   "version": "3.9.7"
  },
  "orig_nbformat": 4
 },
 "nbformat": 4,
 "nbformat_minor": 2
}
